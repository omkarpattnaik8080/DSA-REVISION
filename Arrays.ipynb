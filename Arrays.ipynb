{
  "nbformat": 4,
  "nbformat_minor": 0,
  "metadata": {
    "colab": {
      "provenance": [],
      "authorship_tag": "ABX9TyPPoOkA0JfkdwZ32g/tvR8N",
      "include_colab_link": true
    },
    "kernelspec": {
      "name": "python3",
      "display_name": "Python 3"
    },
    "language_info": {
      "name": "python"
    }
  },
  "cells": [
    {
      "cell_type": "markdown",
      "metadata": {
        "id": "view-in-github",
        "colab_type": "text"
      },
      "source": [
        "<a href=\"https://colab.research.google.com/github/omkarpattnaik8080/DSA-REVISION/blob/main/Arrays.ipynb\" target=\"_parent\"><img src=\"https://colab.research.google.com/assets/colab-badge.svg\" alt=\"Open In Colab\"/></a>"
      ]
    },
    {
      "cell_type": "markdown",
      "source": [
        "**Basic operations in an Array**"
      ],
      "metadata": {
        "id": "g6p8piJCBE_o"
      }
    },
    {
      "cell_type": "code",
      "source": [
        "#insertion\n",
        "arr=[1,2,3,4,5]\n",
        "ele=13\n",
        "insertin=1\n",
        "arr.insert(1,13)\n",
        "print(arr)"
      ],
      "metadata": {
        "colab": {
          "base_uri": "https://localhost:8080/"
        },
        "id": "JR9FR8-WBSDn",
        "outputId": "9c4e8c1b-08c9-493c-91ff-cbd82719f5a2"
      },
      "execution_count": 1,
      "outputs": [
        {
          "output_type": "stream",
          "name": "stdout",
          "text": [
            "[1, 13, 2, 3, 4, 5]\n"
          ]
        }
      ]
    },
    {
      "cell_type": "code",
      "source": [
        "#Deletion\n",
        "arr=[1,2,3,4,5]\n",
        "ele=2\n",
        "arr.remove(ele)\n",
        "print(arr)"
      ],
      "metadata": {
        "colab": {
          "base_uri": "https://localhost:8080/"
        },
        "id": "lpQli33nBhx3",
        "outputId": "a78782cc-2679-4d49-b60f-263fe7195be4"
      },
      "execution_count": 3,
      "outputs": [
        {
          "output_type": "stream",
          "name": "stdout",
          "text": [
            "[1, 3, 4, 5]\n"
          ]
        }
      ]
    },
    {
      "cell_type": "code",
      "source": [
        "#Searching\n",
        "arr=[1,2,3,4,5]\n",
        "target=8\n",
        "for i in range(len(arr)):\n",
        "  if i==target:\n",
        "    print(i)\n",
        "else:\n",
        "    print(\"No element\")"
      ],
      "metadata": {
        "colab": {
          "base_uri": "https://localhost:8080/"
        },
        "id": "IRu5_95-Bw6u",
        "outputId": "d72bad9f-62a0-4531-ddd8-d610a38be27e"
      },
      "execution_count": 6,
      "outputs": [
        {
          "output_type": "stream",
          "name": "stdout",
          "text": [
            "No element\n"
          ]
        }
      ]
    },
    {
      "cell_type": "code",
      "source": [
        "#Linear Search\n",
        "def linearSearch(arr,target):\n",
        "  for i in range(len(arr)):\n",
        "    if arr[i]==target:\n",
        "      return i\n",
        "    return -1"
      ],
      "metadata": {
        "id": "hzZ3ZMUTBxK3"
      },
      "execution_count": 8,
      "outputs": []
    },
    {
      "cell_type": "code",
      "source": [
        "arr=[1,2,3,4,5,6]\n",
        "target=9\n",
        "ans=linearSearch(arr,target)\n",
        "print(ans)"
      ],
      "metadata": {
        "colab": {
          "base_uri": "https://localhost:8080/"
        },
        "id": "qDWl-JlfBxOQ",
        "outputId": "cf34a185-aed3-44f9-9d45-8f769aea6566"
      },
      "execution_count": 9,
      "outputs": [
        {
          "output_type": "stream",
          "name": "stdout",
          "text": [
            "-1\n"
          ]
        }
      ]
    },
    {
      "cell_type": "code",
      "source": [
        "#Binary Search-Array should be sorted\n",
        "def binarySearch(arr,target):\n",
        "  left,right=0,len(arr)-1\n",
        "  while left<=right:\n",
        "    mid=left+right//2\n",
        "    if arr[mid]==target:\n",
        "      return mid\n",
        "    elif arr[mid]<target:\n",
        "      left=mid+1\n",
        "    else:\n",
        "      right=mid-1\n",
        "    return -1"
      ],
      "metadata": {
        "id": "QXAdv6PvBxRX"
      },
      "execution_count": 10,
      "outputs": []
    },
    {
      "cell_type": "code",
      "source": [
        "arr=[10,20,30,40,50]\n",
        "target=50\n",
        "ans=binarySearch(arr,target)\n",
        "print(ans)"
      ],
      "metadata": {
        "colab": {
          "base_uri": "https://localhost:8080/"
        },
        "id": "m1vV_opzBxUP",
        "outputId": "abbe3213-ae27-4259-9970-aeeaa572838c"
      },
      "execution_count": 12,
      "outputs": [
        {
          "output_type": "stream",
          "name": "stdout",
          "text": [
            "-1\n"
          ]
        }
      ]
    },
    {
      "cell_type": "code",
      "source": [
        "#Bubble sort:-hamesha unsorted array mein use hota hai\n",
        "def bubblesort(arr1):\n",
        "  n=len(arr1)\n",
        "  for i in range(n):\n",
        "    swapped=False\n",
        "    for j in range(0,n-i-1):\n",
        "      if arr1[i]>arr1[j+1]:\n",
        "        arr1[i],arr[j+1]=arr[j+1],arr1[i]\n",
        "        swapped=True\n",
        "    if not swapped:\n",
        "      break\n",
        "arr1=[10,20,30,40]\n",
        "ans=bubblesort(arr1)\n",
        "print(ans)"
      ],
      "metadata": {
        "colab": {
          "base_uri": "https://localhost:8080/"
        },
        "id": "zwOXoZZzBxXA",
        "outputId": "c8ac7e8c-dc5e-4394-aaf2-ab261d6237fd"
      },
      "execution_count": 14,
      "outputs": [
        {
          "output_type": "stream",
          "name": "stdout",
          "text": [
            "None\n"
          ]
        }
      ]
    },
    {
      "cell_type": "code",
      "source": [],
      "metadata": {
        "id": "1itxOalbBxZf"
      },
      "execution_count": null,
      "outputs": []
    }
  ]
}