{
  "nbformat": 4,
  "nbformat_minor": 0,
  "metadata": {
    "colab": {
      "provenance": [],
      "authorship_tag": "ABX9TyO284Aj530ATuQdc5IO0ZMi",
      "include_colab_link": true
    },
    "kernelspec": {
      "name": "python3",
      "display_name": "Python 3"
    },
    "language_info": {
      "name": "python"
    }
  },
  "cells": [
    {
      "cell_type": "markdown",
      "metadata": {
        "id": "view-in-github",
        "colab_type": "text"
      },
      "source": [
        "<a href=\"https://colab.research.google.com/github/omkarpattnaik8080/DSA-REVISION/blob/main/ArraysQ1.ipynb\" target=\"_parent\"><img src=\"https://colab.research.google.com/assets/colab-badge.svg\" alt=\"Open In Colab\"/></a>"
      ]
    },
    {
      "cell_type": "code",
      "source": [
        "#question1.Find second largest element in an array\n",
        "nums=[10,20,40,30,50]\n",
        "largest=nums[0]\n",
        "secondlargest=nums[0]\n",
        "for i in range(len(nums)):\n",
        "  if nums[i]>largest:\n",
        "    largest=nums[i]\n",
        "for i in range(len(nums)):\n",
        "  if nums[i]>secondlargest and nums[i]!=largest:\n",
        "    secondlargest=nums[i]\n",
        "print(secondlargest)"
      ],
      "metadata": {
        "colab": {
          "base_uri": "https://localhost:8080/"
        },
        "id": "cxzMPl3X_atj",
        "outputId": "a79b91aa-a268-4061-a68d-e4245a8824b2"
      },
      "execution_count": 2,
      "outputs": [
        {
          "output_type": "stream",
          "name": "stdout",
          "text": [
            "40\n"
          ]
        }
      ]
    }
  ]
}