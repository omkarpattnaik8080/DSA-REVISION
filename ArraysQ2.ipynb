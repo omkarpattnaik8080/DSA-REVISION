{
  "nbformat": 4,
  "nbformat_minor": 0,
  "metadata": {
    "colab": {
      "provenance": [],
      "authorship_tag": "ABX9TyO9ORHQBkcKPmkuaED+rYEu",
      "include_colab_link": true
    },
    "kernelspec": {
      "name": "python3",
      "display_name": "Python 3"
    },
    "language_info": {
      "name": "python"
    }
  },
  "cells": [
    {
      "cell_type": "markdown",
      "metadata": {
        "id": "view-in-github",
        "colab_type": "text"
      },
      "source": [
        "<a href=\"https://colab.research.google.com/github/omkarpattnaik8080/DSA-REVISION/blob/main/ArraysQ2.ipynb\" target=\"_parent\"><img src=\"https://colab.research.google.com/assets/colab-badge.svg\" alt=\"Open In Colab\"/></a>"
      ]
    },
    {
      "cell_type": "code",
      "execution_count": 2,
      "metadata": {
        "id": "BsvP1Jk2BW45"
      },
      "outputs": [],
      "source": [
        "#Rotate an array by k\n",
        "def rotate(arr,k):\n",
        "  #using 2 pointers\n",
        "  #reversing the entire array\n",
        "  k=k%len(arr)\n",
        "  l,r=0,len(arr)-1\n",
        "  while l<r:\n",
        "    arr[l],arr[r]=arr[r],arr[l]\n",
        "  l,r=0,k-1\n",
        "  while l<r:\n",
        "    arr[l],arr[r]=arr[r],arr[l]\n",
        "  l,r=k,len(arr)-1\n",
        "  while l<r:\n",
        "    arr[l],arr[r]=arr[r],arr[l]\n",
        ""
      ]
    },
    {
      "cell_type": "code",
      "source": [
        "arr=[1,2,3,4,5]\n",
        "k=2\n",
        "ans=rotate(arr,k)\n",
        "print(ans)\n"
      ],
      "metadata": {
        "id": "YoNRjRJ0ii-7"
      },
      "execution_count": null,
      "outputs": []
    }
  ]
}